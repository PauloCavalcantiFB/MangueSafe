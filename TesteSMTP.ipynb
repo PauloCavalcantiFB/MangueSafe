{
 "cells": [
  {
   "cell_type": "code",
   "execution_count": 8,
   "metadata": {
    "scrolled": true
   },
   "outputs": [
    {
     "output_type": "stream",
     "name": "stdout",
     "text": [
      "\nEmail foi enviado para  lags@cesar.school  com sucesso!\n\n"
     ]
    }
   ],
   "source": [
    "import smtplib\n",
    "from email.mime.multipart import MIMEMultipart\n",
    "from email.mime.text import MIMEText\n",
    "\n",
    "#Função chamada para enviar email via SMTP\n",
    "def smtpsend(texto):\n",
    "    #cria um objeto com o corpo do texto do gmail\n",
    "    msg = MIMEMultipart()\n",
    "    # Necessários os arquivos com email e senha do remetente e outro com a denúncia\n",
    "    f = open('login.txt','r')\n",
    "    f1 = open('senha.txt','r')\n",
    "    msg['From'] = f.readline()\n",
    "    mypass = f1.readline()\n",
    "    corpo = texto\n",
    "    f.close()\n",
    "    f1.close()\n",
    "\n",
    "    msg['Subject'] = 'Denúncia de ciclista em pernambuco via databikePE'\n",
    "    msg['To'] = 'lags@cesar.school'\n",
    "    #função para juntar o corpo do texto no resto do objeto\n",
    "    msg.attach(MIMEText(corpo, 'plain'))\n",
    "    \n",
    "    smtp = smtplib.SMTP('smtp.gmail.com', 587)\n",
    "    smtp.starttls()\n",
    "    #autentificação do email\n",
    "    smtp.login(msg['From'], mypass)\n",
    "    #envio de email\n",
    "    smtp.sendmail(msg['From'], msg['To'], msg.as_string())\n",
    "    \n",
    "    smtp.quit()\n",
    "    \n",
    "    print(\"\\nEmail foi enviado para \",msg['To'],\" com sucesso!\\n\")\n",
    "try:   \n",
    "    smtpsend()\n",
    "except:\n",
    "    print(\"Algo deu errado\")\n",
    "    \n",
    "    "
   ]
  },
  {
   "cell_type": "code",
   "execution_count": null,
   "metadata": {},
   "outputs": [],
   "source": []
  },
  {
   "cell_type": "code",
   "execution_count": null,
   "metadata": {},
   "outputs": [],
   "source": []
  }
 ],
 "metadata": {
  "kernelspec": {
   "name": "Python 3.7.4 64-bit ('base': conda)",
   "display_name": "Python 3.7.4 64-bit ('base': conda)",
   "metadata": {
    "interpreter": {
     "hash": "7aca7fe32a9c34a09c9b3c6189ab005a4a4c8cb229d9ce03421b35f387207acc"
    }
   }
  },
  "language_info": {
   "codemirror_mode": {
    "name": "ipython",
    "version": 3
   },
   "file_extension": ".py",
   "mimetype": "text/x-python",
   "name": "python",
   "nbconvert_exporter": "python",
   "pygments_lexer": "ipython3",
   "version": "3.7.4-final"
  }
 },
 "nbformat": 4,
 "nbformat_minor": 2
}